{
 "cells": [
  {
   "cell_type": "code",
   "execution_count": 46,
   "metadata": {},
   "outputs": [],
   "source": [
    "import numpy as np\n",
    "import pandas as pd\n",
    "import matplotlib.pyplot as plt\n",
    "\n",
    "import gensim\n",
    "from gensim.models import Word2Vec\n",
    "\n",
    "import re\n",
    "import collections\n",
    "\n",
    "from sklearn.model_selection import cross_val_score,GridSearchCV\n",
    "from sklearn import svm                                  #SVM分类器\n",
    "from sklearn.ensemble import RandomForestClassifier      #随机森林分类器\n",
    "from sklearn.naive_bayes import  GaussianNB              #朴素贝叶斯\n",
    "from sklearn.linear_model import LogisticRegression        #逻辑斯特回归\n",
    "from sklearn.model_selection import train_test_split     \n",
    "from sklearn.metrics import accuracy_score\n",
    "from sklearn import metrics\n",
    "\n",
    "import nltk\n",
    "from nltk import pos_tag\n",
    "from nltk.stem import WordNetLemmatizer\n",
    "from nltk.corpus import wordnet\n",
    "from nltk.corpus import stopwords\n",
    "import warnings\n",
    "warnings.filterwarnings(\"ignore\")"
   ]
  },
  {
   "cell_type": "code",
   "execution_count": 128,
   "metadata": {},
   "outputs": [
    {
     "data": {
      "text/html": [
       "<div>\n",
       "<style scoped>\n",
       "    .dataframe tbody tr th:only-of-type {\n",
       "        vertical-align: middle;\n",
       "    }\n",
       "\n",
       "    .dataframe tbody tr th {\n",
       "        vertical-align: top;\n",
       "    }\n",
       "\n",
       "    .dataframe thead th {\n",
       "        text-align: right;\n",
       "    }\n",
       "</style>\n",
       "<table border=\"1\" class=\"dataframe\">\n",
       "  <thead>\n",
       "    <tr style=\"text-align: right;\">\n",
       "      <th></th>\n",
       "      <th>Rating</th>\n",
       "      <th>Sentiment</th>\n",
       "      <th>Review_1</th>\n",
       "      <th>Review_2</th>\n",
       "      <th>Reviews</th>\n",
       "      <th>Date</th>\n",
       "      <th>Version</th>\n",
       "      <th>Nation</th>\n",
       "    </tr>\n",
       "  </thead>\n",
       "  <tbody>\n",
       "    <tr>\n",
       "      <th>0</th>\n",
       "      <td>1</td>\n",
       "      <td>0</td>\n",
       "      <td>worst design . the video recommendation below ...</td>\n",
       "      <td>remove video recommendation below the video .</td>\n",
       "      <td>worst design . the video recommendation below ...</td>\n",
       "      <td>2017/1/20</td>\n",
       "      <td>11.49</td>\n",
       "      <td>SG</td>\n",
       "    </tr>\n",
       "    <tr>\n",
       "      <th>1</th>\n",
       "      <td>1</td>\n",
       "      <td>0</td>\n",
       "      <td>with new update it be completely unable to loa...</td>\n",
       "      <td>bad design .</td>\n",
       "      <td>with new update it be completely unable to loa...</td>\n",
       "      <td>2017/1/20</td>\n",
       "      <td>11.49</td>\n",
       "      <td>SG</td>\n",
       "    </tr>\n",
       "    <tr>\n",
       "      <th>2</th>\n",
       "      <td>1</td>\n",
       "      <td>0</td>\n",
       "      <td>the more update be do , the worse the app get ...</td>\n",
       "      <td>not happy with update at all .</td>\n",
       "      <td>the more update be do , the worse the app get ...</td>\n",
       "      <td>2017/1/5</td>\n",
       "      <td>11.47.1</td>\n",
       "      <td>SG</td>\n",
       "    </tr>\n",
       "    <tr>\n",
       "      <th>3</th>\n",
       "      <td>1</td>\n",
       "      <td>0</td>\n",
       "      <td>the advert be too plentiful , to the point tha...</td>\n",
       "      <td>bad . just look at all the most recent review ...</td>\n",
       "      <td>the advert be too plentiful , to the point tha...</td>\n",
       "      <td>2016/12/26</td>\n",
       "      <td>11.47.1</td>\n",
       "      <td>SG</td>\n",
       "    </tr>\n",
       "    <tr>\n",
       "      <th>4</th>\n",
       "      <td>1</td>\n",
       "      <td>0</td>\n",
       "      <td>the advert be too plentiful , to the point tha...</td>\n",
       "      <td>bad . just look at all the most recent review ...</td>\n",
       "      <td>the advert be too plentiful , to the point tha...</td>\n",
       "      <td>2016/12/7</td>\n",
       "      <td>11.47</td>\n",
       "      <td>SG</td>\n",
       "    </tr>\n",
       "  </tbody>\n",
       "</table>\n",
       "</div>"
      ],
      "text/plain": [
       "   Rating  Sentiment                                           Review_1  \\\n",
       "0       1          0  worst design . the video recommendation below ...   \n",
       "1       1          0  with new update it be completely unable to loa...   \n",
       "2       1          0  the more update be do , the worse the app get ...   \n",
       "3       1          0  the advert be too plentiful , to the point tha...   \n",
       "4       1          0  the advert be too plentiful , to the point tha...   \n",
       "\n",
       "                                            Review_2  \\\n",
       "0      remove video recommendation below the video .   \n",
       "1                                       bad design .   \n",
       "2                     not happy with update at all .   \n",
       "3  bad . just look at all the most recent review ...   \n",
       "4  bad . just look at all the most recent review ...   \n",
       "\n",
       "                                             Reviews        Date  Version  \\\n",
       "0  worst design . the video recommendation below ...   2017/1/20    11.49   \n",
       "1  with new update it be completely unable to loa...   2017/1/20    11.49   \n",
       "2  the more update be do , the worse the app get ...    2017/1/5  11.47.1   \n",
       "3  the advert be too plentiful , to the point tha...  2016/12/26  11.47.1   \n",
       "4  the advert be too plentiful , to the point tha...   2016/12/7    11.47   \n",
       "\n",
       "  Nation  \n",
       "0     SG  \n",
       "1     SG  \n",
       "2     SG  \n",
       "3     SG  \n",
       "4     SG  "
      ]
     },
     "execution_count": 128,
     "metadata": {},
     "output_type": "execute_result"
    }
   ],
   "source": [
    "data=pd.read_csv(r\"C:\\Users\\YUE\\Desktop\\interface6.csv\",dtype={'Reviews':str})\n",
    "data.head()"
   ]
  },
  {
   "cell_type": "code",
   "execution_count": 129,
   "metadata": {},
   "outputs": [
    {
     "data": {
      "text/html": [
       "<div>\n",
       "<style scoped>\n",
       "    .dataframe tbody tr th:only-of-type {\n",
       "        vertical-align: middle;\n",
       "    }\n",
       "\n",
       "    .dataframe tbody tr th {\n",
       "        vertical-align: top;\n",
       "    }\n",
       "\n",
       "    .dataframe thead th {\n",
       "        text-align: right;\n",
       "    }\n",
       "</style>\n",
       "<table border=\"1\" class=\"dataframe\">\n",
       "  <thead>\n",
       "    <tr style=\"text-align: right;\">\n",
       "      <th></th>\n",
       "      <th>Sentiment</th>\n",
       "      <th>Reviews</th>\n",
       "    </tr>\n",
       "  </thead>\n",
       "  <tbody>\n",
       "    <tr>\n",
       "      <th>0</th>\n",
       "      <td>0</td>\n",
       "      <td>worst design . the video recommendation below ...</td>\n",
       "    </tr>\n",
       "    <tr>\n",
       "      <th>1</th>\n",
       "      <td>0</td>\n",
       "      <td>with new update it be completely unable to loa...</td>\n",
       "    </tr>\n",
       "    <tr>\n",
       "      <th>2</th>\n",
       "      <td>0</td>\n",
       "      <td>the more update be do , the worse the app get ...</td>\n",
       "    </tr>\n",
       "    <tr>\n",
       "      <th>3</th>\n",
       "      <td>0</td>\n",
       "      <td>the advert be too plentiful , to the point tha...</td>\n",
       "    </tr>\n",
       "    <tr>\n",
       "      <th>4</th>\n",
       "      <td>0</td>\n",
       "      <td>the advert be too plentiful , to the point tha...</td>\n",
       "    </tr>\n",
       "  </tbody>\n",
       "</table>\n",
       "</div>"
      ],
      "text/plain": [
       "   Sentiment                                            Reviews\n",
       "0          0  worst design . the video recommendation below ...\n",
       "1          0  with new update it be completely unable to loa...\n",
       "2          0  the more update be do , the worse the app get ...\n",
       "3          0  the advert be too plentiful , to the point tha...\n",
       "4          0  the advert be too plentiful , to the point tha..."
      ]
     },
     "execution_count": 129,
     "metadata": {},
     "output_type": "execute_result"
    }
   ],
   "source": [
    "#预处理\n",
    "new_data=data[[\"Sentiment\",\"Reviews\"]]  #获取指定列\n",
    "new_data.head()"
   ]
  },
  {
   "cell_type": "code",
   "execution_count": 130,
   "metadata": {},
   "outputs": [],
   "source": [
    "#简单预处理\n",
    "def clean_text(text):\n",
    "    text= text.replace('\\n',\" \") #用空格代替新的行\n",
    "    text=re.sub(r\"-\",\" \",text)  #把用“-”连接的单词分开 （close-up分成close和 up）\n",
    "    pure_text=''\n",
    "    for letter in text:        #去除字母和空格\n",
    "        letter=letter.lower()\n",
    "        if letter.isalpha() or letter==' ':\n",
    "            pure_text+=letter\n",
    "    text=' '.join(word for word in pure_text.split() if len(word)>1)\n",
    "    return text\n",
    "\n"
   ]
  },
  {
   "cell_type": "code",
   "execution_count": 131,
   "metadata": {},
   "outputs": [],
   "source": [
    "#错词纠正算法\n",
    "def token(text):\n",
    "    \n",
    "    return re.findall('[a-z]+', text.lower())\n",
    "\n",
    "path=r'C:\\Users\\YUE\\Desktop\\big.txt'\n",
    "with open(path) as f:\n",
    "    WORDS=token(f.read())\n",
    "WORD_COUNTS=collections.Counter(WORDS)\n",
    "\n",
    "def known(words):\n",
    "    return {w for w in words if w in WORD_COUNTS}\n",
    "\n",
    "def edits0(word):\n",
    "    return {word}\n",
    "\n",
    "\n",
    "def edits1(word):\n",
    "    alphabet='abcdefghijklmnopqrstuvwxyz'\n",
    "    \n",
    "    def splits(word): \n",
    "        return [(word[:i],word[i:]) for i in range(len(word)+1)]\n",
    "    \n",
    "    pairs=splits(word)\n",
    "    deletes=[a+b[1:] for (a,b) in pairs if b]\n",
    "    transposes=[a+b[1]+b[0]+b[2:] for (a,b) in pairs if len(b)>1]\n",
    "    replaces=[a+c+b[1:] for (a,b) in pairs for c in alphabet if b]\n",
    "    inserts=[a+c+b for (a,b) in pairs for c in alphabet]\n",
    "    return set(deletes+ transposes+ replaces+ inserts)\n",
    "\n",
    "def edits2(word):\n",
    "    return{e2 for e1 in edits1(word) for e2 in edits1(e1)}\n",
    "\n",
    "def correct(word):\n",
    "    candidates=(known(edits0(word)) or\n",
    "                known(edits1(word)) or\n",
    "                known(edits2(word)) or\n",
    "                [word] )\n",
    "    return max(candidates,key=WORD_COUNTS.get)\n",
    "\n",
    "def correct_match(match):\n",
    "    word=match.group()\n",
    "    \n",
    "    def case_of(text):\n",
    "        return (str.upper if text.isupper() else\n",
    "                str.lower if text.islower() else\n",
    "                str.title if text.istitle() else\n",
    "                str )\n",
    "    return case_of(word)(correct(word.lower()))\n",
    "\n",
    "\n",
    "def correct_text_generic(text):\n",
    "    return re.sub('[a-zA-Z]+', correct_match, text)"
   ]
  },
  {
   "cell_type": "code",
   "execution_count": 132,
   "metadata": {},
   "outputs": [],
   "source": [
    "#错词纠正\n",
    "new_df=new_data['Reviews'].copy()\n",
    "docs=new_df.apply(lambda s:clean_text(s))\n",
    "doclist=docs.values\n",
    "reviews_1=[]\n",
    "for sentence in doclist:\n",
    "    raw_sentence=nltk.word_tokenize(sentence)\n",
    "    for word in sentence:\n",
    "        word=correct_text_generic(word)\n",
    "    reviews_1.append(raw_sentence)\n",
    "#print(reviews_1)"
   ]
  },
  {
   "cell_type": "code",
   "execution_count": 133,
   "metadata": {},
   "outputs": [],
   "source": [
    "#词性还原算法\n",
    "def get_word_pos(tag):\n",
    "#     if tag.startswith('J'):\n",
    "#         return wordnet.ADJ\n",
    "    if tag.startswith('V'):\n",
    "        return wordnet.VERB\n",
    "#     elif tag.startswith('N'):\n",
    "#         return wordnet.NOUN\n",
    "#     elif tag.startswith('R'):\n",
    "#         return wordnet.ADV\n",
    "    else:\n",
    "        return None"
   ]
  },
  {
   "cell_type": "code",
   "execution_count": 134,
   "metadata": {},
   "outputs": [],
   "source": [
    "#词性还原\n",
    "reviews_2=[]\n",
    "for sentence in reviews_1:\n",
    "    tagged_sent=pos_tag(sentence)\n",
    "    wnl=WordNetLemmatizer()\n",
    "    lemmas_sent=[]\n",
    "    for tag in tagged_sent:\n",
    "        wordnet_pos=get_word_pos(tag[1]) or wordnet.NOUN\n",
    "        lemmas_sent.append(wnl.lemmatize(tag[0],pos=wordnet_pos))\n",
    "    reviews_2.append(lemmas_sent)\n",
    "#print(reviews_2)"
   ]
  },
  {
   "cell_type": "code",
   "execution_count": 135,
   "metadata": {},
   "outputs": [],
   "source": [
    "#停止词去除\n",
    "def remove_stopword():\n",
    "    stopword = []\n",
    "    with open(r'C:\\Users\\YUE\\Desktop\\english.txt', encoding='utf-8') as f:\n",
    "        lines = f.readlines()\n",
    "        for line in lines:\n",
    "            line = line.replace('\\n', '')\n",
    "            stopword.append(line)\n",
    "    return stopword\n",
    "\n",
    "my_stoplst = [\"app\", \"good\", \"excellent\", \"please\", \"they\", \"very\", \"too\", \n",
    "                  \"yeah\", \"amazing\", \"lovely\", \"perfect\", \"much\", \"best\", \"yup\", \"super\", \"thank\",\n",
    "                  \"great\",\n",
    "                  \"really\", \"omg\", \"gud\", \"yes\", \"cool\", \"fine\", \"hello\", \"alright\", \"poor\", \"plz\", \"pls\", \"google\",\n",
    "                  \"facebook\",\n",
    "                  \"three\", \"ones\", \"one\", \"two\", \"five\", \"four\", \"old\", \"new\", \"asap\", \"version\", \"times\", \"update\",\n",
    "                  \"star\",\n",
    "                  \"first\",\n",
    "                  \"rid\", \"bit\", \"annoying\", \"beautiful\", \"dear\", \"master\", \"evernote\", \"per\", \"line\", \"oh\", \"ah\",\n",
    "                  \"cannot\", \"doesnt\", \"won't\", \"dont\", \"unless\", \"you're\", \"aren't\", \"i'd\", \"can't\", \"wouldn't\",\n",
    "                  \"around\",\n",
    "                  \"i've\", \"i'll\", \"gonna\", \"ago\", \"you'll\", \"you'd\", \"28th\", \"gen\", \"it'll\", \"vice\", \"would've\",\n",
    "                  \"wasn't\",\n",
    "                  \"year\", \"boy\", \"they'd\",\n",
    "                  \"isnt\", \"1st\", \"i'm\",\"im\", \"nobody\", \"youtube\", \"isn't\", \"don't\", \"2016\", \"2017\", \"since\", \"near\", \"god\",\"video\",\n",
    "                   \"none\",\"hi\",\"ive\",\"didnt\",\"af\",\"io\"]\n",
    "\n",
    "stopset=list(stopwords.words('english'))"
   ]
  },
  {
   "cell_type": "code",
   "execution_count": 136,
   "metadata": {},
   "outputs": [],
   "source": [
    "stop_words=stopset+my_stoplst\n",
    "texts=[[word for word in doc if word not in stop_words] for doc in reviews_2]"
   ]
  },
  {
   "cell_type": "code",
   "execution_count": 137,
   "metadata": {},
   "outputs": [
    {
     "name": "stdout",
     "output_type": "stream",
     "text": [
      "['completely', 'unable', 'load', 'probably', 'cause', 'thousand', 'lose', 'advertisement', 'revenue', 'well', 'lose', 'money', 'bad', 'design']\n"
     ]
    }
   ],
   "source": [
    "print(texts[1])"
   ]
  },
  {
   "cell_type": "code",
   "execution_count": 138,
   "metadata": {},
   "outputs": [
    {
     "name": "stdout",
     "output_type": "stream",
     "text": [
      "      Sentiment                                            Reviews\n",
      "0             0  [worst, design, recommendation, keep, show, tr...\n",
      "1             0  [completely, unable, load, probably, cause, th...\n",
      "2             0       [worse, get, load, interface, shitty, happy]\n",
      "3             0  [advert, plentiful, point, advert, cause, prob...\n",
      "4             0  [advert, plentiful, point, advert, cause, prob...\n",
      "...         ...                                                ...\n",
      "1637          0  [regret, want, long, sub, list, leave, wan, na...\n",
      "1638          0  [strong, start, beg, simple, function, complic...\n",
      "1639          0  [everything, garbage, impossible, watch, anyth...\n",
      "1640          1  [let, say, fan, layout, would, like, back, rea...\n",
      "1641          0  [anyone, remember, actually, work, latest, enc...\n",
      "\n",
      "[1642 rows x 2 columns]\n"
     ]
    }
   ],
   "source": [
    "for i in range(len(data[\"Reviews\"])):\n",
    "    new_data[\"Reviews\"][i]=texts[i]\n",
    "print(new_data)"
   ]
  },
  {
   "cell_type": "code",
   "execution_count": 139,
   "metadata": {},
   "outputs": [
    {
     "name": "stdout",
     "output_type": "stream",
     "text": [
      "190\n",
      "1452\n"
     ]
    }
   ],
   "source": [
    "#统计正、负面情绪评论个数\n",
    "postive_num=0\n",
    "negtive_num=0\n",
    "for i in new_data[\"Sentiment\"]:\n",
    "    if i==1:\n",
    "        postive_num+=1\n",
    "    if i==0:\n",
    "        negtive_num+=1 \n",
    "print(postive_num)\n",
    "print(negtive_num)"
   ]
  },
  {
   "cell_type": "code",
   "execution_count": 140,
   "metadata": {},
   "outputs": [
    {
     "name": "stdout",
     "output_type": "stream",
     "text": [
      "     Sentiment                                            Reviews\n",
      "0            1  [latest, whole, layout, change, find, quite, e...\n",
      "1            1  [everything, work, well, except, minor, bug, m...\n",
      "2            1                       [slick, watch, dozen, thing]\n",
      "3            1  [latest, sync, audio, duplicate, comment, scro...\n",
      "4            1  [improve, immensely, higher, quality, layout, ...\n",
      "..         ...                                                ...\n",
      "185          1  [layout, terrible, like, layout, easier, watch...\n",
      "186          1  [like, slide, tab, allow, see, name, subscript...\n",
      "187          1  [hate, stupid, layout, think, change, original...\n",
      "188          1  [far, pleasant, experience, like, able, go, se...\n",
      "189          1  [let, say, fan, layout, would, like, back, rea...\n",
      "\n",
      "[190 rows x 2 columns]\n",
      "____________________\n",
      "      Sentiment                                            Reviews\n",
      "0             0  [worst, design, recommendation, keep, show, tr...\n",
      "1             0  [completely, unable, load, probably, cause, th...\n",
      "2             0       [worse, get, load, interface, shitty, happy]\n",
      "3             0  [advert, plentiful, point, advert, cause, prob...\n",
      "4             0  [advert, plentiful, point, advert, cause, prob...\n",
      "...         ...                                                ...\n",
      "1447          0  [like, try, view, device, experience, thing, t...\n",
      "1448          0  [regret, want, long, sub, list, leave, wan, na...\n",
      "1449          0  [strong, start, beg, simple, function, complic...\n",
      "1450          0  [everything, garbage, impossible, watch, anyth...\n",
      "1451          0  [anyone, remember, actually, work, latest, enc...\n",
      "\n",
      "[1452 rows x 2 columns]\n"
     ]
    }
   ],
   "source": [
    "#将负面和正面情绪的评论分成两个表，并重新归置索引\n",
    "pos_df=new_data.query('Sentiment==1')\n",
    "neg_df=new_data.query('Sentiment==0')\n",
    "pos_df=pos_df.reset_index(drop=True)\n",
    "neg_df=neg_df.reset_index(drop=True)\n",
    "print(pos_df)\n",
    "print(\"____________________\")\n",
    "print(neg_df)"
   ]
  },
  {
   "cell_type": "code",
   "execution_count": 195,
   "metadata": {},
   "outputs": [
    {
     "name": "stdout",
     "output_type": "stream",
     "text": [
      "     Sentiment                                            Reviews\n",
      "0            0  [worst, design, recommendation, keep, show, tr...\n",
      "1            0  [completely, unable, load, probably, cause, th...\n",
      "2            0       [worse, get, load, interface, shitty, happy]\n",
      "3            0  [advert, plentiful, point, advert, cause, prob...\n",
      "4            0  [layout, cant, even, watch, freeze, even, thou...\n",
      "..         ...                                                ...\n",
      "995          0  [like, try, view, device, experience, thing, t...\n",
      "996          0  [regret, want, long, sub, list, leave, wan, na...\n",
      "997          0  [strong, start, beg, simple, function, complic...\n",
      "998          0  [everything, garbage, impossible, watch, anyth...\n",
      "999          0  [anyone, remember, actually, work, latest, enc...\n",
      "\n",
      "[1000 rows x 2 columns]\n"
     ]
    }
   ],
   "source": [
    "#样本平衡(Neg远远多于Pos)\n",
    "import random\n",
    "random_list=sorted(random.sample(range(0,1452),452))\n",
    "new_neg_df=neg_df.drop(index=random_list)\n",
    "new_neg_df=new_neg_df.reset_index(drop=True)\n",
    "print(new_neg_df)"
   ]
  },
  {
   "cell_type": "code",
   "execution_count": 196,
   "metadata": {},
   "outputs": [],
   "source": [
    "#样本平衡(Pos远远多于Neg)\n",
    "#import random\n",
    "#random_list=sorted(random.sample(range(0,321),156))\n",
    "#new_pos_df=pos_df.drop(index=random_list)\n",
    "#new_pos_df=new_pos_df.reset_index(drop=True)\n",
    "#print(new_pos_df)"
   ]
  },
  {
   "cell_type": "code",
   "execution_count": 197,
   "metadata": {},
   "outputs": [
    {
     "name": "stdout",
     "output_type": "stream",
     "text": [
      "     Sentiment                                            Reviews\n",
      "0            1  [latest, whole, layout, change, find, quite, e...\n",
      "1            1  [everything, work, well, except, minor, bug, m...\n",
      "2            1                       [slick, watch, dozen, thing]\n",
      "3            1  [latest, sync, audio, duplicate, comment, scro...\n",
      "4            1  [improve, immensely, higher, quality, layout, ...\n",
      "..         ...                                                ...\n",
      "995          0  [like, try, view, device, experience, thing, t...\n",
      "996          0  [regret, want, long, sub, list, leave, wan, na...\n",
      "997          0  [strong, start, beg, simple, function, complic...\n",
      "998          0  [everything, garbage, impossible, watch, anyth...\n",
      "999          0  [anyone, remember, actually, work, latest, enc...\n",
      "\n",
      "[1190 rows x 2 columns]\n"
     ]
    }
   ],
   "source": [
    "#test_data=pd.concat([pos_df,neg_df])   #Pos远远多于Neg\n",
    "test_data=pd.concat([pos_df,new_neg_df])   #Neg远远多于Pos\n",
    "#3test_data=test_data.reset_index(drop=True)\n",
    "#print(test_data)\n",
    "#test_data=pd.concat([pos_df,neg_df])\n",
    "print(test_data)"
   ]
  },
  {
   "cell_type": "code",
   "execution_count": 198,
   "metadata": {},
   "outputs": [],
   "source": [
    "sentences=[]\n",
    "for raw_sent in test_data[\"Reviews\"]:\n",
    "    sentences.append(raw_sent)\n",
    "\n",
    "\n",
    "#word2vec模型建立\n",
    "import multiprocessing\n",
    "num_features=300                          #生成的单词向量的维数\n",
    "min_word_count=1                          #最小字数的阈值\n",
    "num_workers=multiprocessing.cpu_count()   #并行运行的线程数\n",
    "context_size=3                            #上下文窗口长度\n",
    "seed=1                                    #使得结果重现\n",
    "\n",
    "word2vec_model=Word2Vec(sentences=sentences,\n",
    "                        sg=1,\n",
    "                        seed=seed,\n",
    "                        workers=num_workers,\n",
    "                        vector_size=num_features,\n",
    "                        min_count=min_word_count,\n",
    "                        window=context_size\n",
    "                        )"
   ]
  },
  {
   "cell_type": "code",
   "execution_count": 199,
   "metadata": {},
   "outputs": [],
   "source": [
    "#每个句子的向量是字向量的均值\n",
    "def get_vec(sent):\n",
    "    sentence_vec=[]\n",
    "    for word in sent:\n",
    "        sentence_vec.append(word2vec_model.wv[word])\n",
    "    return sentence_vec\n",
    "\n",
    "def build_vec(sentences):\n",
    "    test_vec=[]\n",
    "    for sentence in sentences:\n",
    "        vec=get_vec(sentence)\n",
    "        if len(vec)!=0:\n",
    "            test_vec.append(sum(vec)/len(vec))\n",
    "    return test_vec\n",
    "        "
   ]
  },
  {
   "cell_type": "code",
   "execution_count": 211,
   "metadata": {},
   "outputs": [],
   "source": [
    "#机器学习来预测结果\n",
    "#Train test split\n",
    "y=pd.DataFrame(test_data[\"Sentiment\"])\n",
    "x=pd.DataFrame(build_vec(sentences))\n",
    "xtrain,xtest,ytrain,ytest=train_test_split(x,y,test_size=0.2)"
   ]
  },
  {
   "cell_type": "code",
   "execution_count": 212,
   "metadata": {},
   "outputs": [
    {
     "name": "stdout",
     "output_type": "stream",
     "text": [
      "              precision    recall  f1-score   support\n",
      "\n",
      "           0       0.99      0.85      0.91       233\n",
      "           1       0.08      0.60      0.14         5\n",
      "\n",
      "    accuracy                           0.84       238\n",
      "   macro avg       0.53      0.72      0.52       238\n",
      "weighted avg       0.97      0.84      0.90       238\n",
      "\n",
      "随机森林的accuracy为： 0.8403361344537815\n"
     ]
    }
   ],
   "source": [
    "#随机森林\n",
    "RFC_clf=RandomForestClassifier(n_estimators=50,random_state=100,class_weight='balanced')\n",
    "RFC_clf=RFC_clf.fit(xtrain,ytrain)\n",
    "score_rfc=RFC_clf.score(xtest,ytest)\n",
    "predict_test=RFC_clf.predict(xtest)\n",
    "print(metrics.classification_report(predict_test,ytest))\n",
    "print(\"随机森林的accuracy为：\",score_rfc)"
   ]
  },
  {
   "cell_type": "code",
   "execution_count": 213,
   "metadata": {},
   "outputs": [
    {
     "name": "stdout",
     "output_type": "stream",
     "text": [
      "              precision    recall  f1-score   support\n",
      "\n",
      "           0       0.84      0.85      0.84       197\n",
      "           1       0.23      0.22      0.23        41\n",
      "\n",
      "    accuracy                           0.74       238\n",
      "   macro avg       0.53      0.53      0.53       238\n",
      "weighted avg       0.73      0.74      0.74       238\n",
      "\n",
      "SVM的accuracy为： 0.7394957983193278\n"
     ]
    }
   ],
   "source": [
    "#Svm\n",
    "SVM_clf=svm.SVC(kernel='rbf',class_weight='balanced')\n",
    "SVM_clf=SVM_clf.fit(xtrain,ytrain)\n",
    "score_svm=SVM_clf.score(xtest,ytest)\n",
    "predict_test=SVM_clf.predict(xtest)\n",
    "print(metrics.classification_report(predict_test,ytest))\n",
    "print(\"SVM的accuracy为：\",score_svm)"
   ]
  },
  {
   "cell_type": "code",
   "execution_count": 214,
   "metadata": {},
   "outputs": [
    {
     "name": "stdout",
     "output_type": "stream",
     "text": [
      "              precision    recall  f1-score   support\n",
      "\n",
      "           0       0.81      0.85      0.83       190\n",
      "           1       0.26      0.21      0.23        48\n",
      "\n",
      "    accuracy                           0.72       238\n",
      "   macro avg       0.53      0.53      0.53       238\n",
      "weighted avg       0.70      0.72      0.71       238\n",
      "\n",
      "NB的accuracy为： 0.7184873949579832\n"
     ]
    }
   ],
   "source": [
    "#朴素贝叶斯\n",
    "NB_clf=GaussianNB()\n",
    "NB_clf=NB_clf.fit(xtrain,ytrain)\n",
    "score_NB=NB_clf.score(xtest,ytest)\n",
    "predict_test=NB_clf.predict(xtest)\n",
    "print(metrics.classification_report(predict_test,ytest))\n",
    "print(\"NB的accuracy为：\",score_NB)"
   ]
  },
  {
   "cell_type": "code",
   "execution_count": 215,
   "metadata": {},
   "outputs": [
    {
     "name": "stdout",
     "output_type": "stream",
     "text": [
      "              precision    recall  f1-score   support\n",
      "\n",
      "           0       0.50      0.86      0.63       115\n",
      "           1       0.59      0.19      0.28       123\n",
      "\n",
      "    accuracy                           0.51       238\n",
      "   macro avg       0.54      0.52      0.46       238\n",
      "weighted avg       0.55      0.51      0.45       238\n",
      "\n",
      "LR的accuracy为： 0.5126050420168067\n"
     ]
    }
   ],
   "source": [
    "#逻辑斯特回归\n",
    "LR_clf=LogisticRegression(penalty='l2', class_weight='balanced')\n",
    "LR_clf=LR_clf.fit(xtrain,ytrain)\n",
    "score_LR=LR_clf.score(xtest,ytest)\n",
    "predict_test=LR_clf.predict(xtest)\n",
    "print(metrics.classification_report(predict_test,ytest))\n",
    "print(\"LR的accuracy为：\",score_LR)"
   ]
  },
  {
   "cell_type": "code",
   "execution_count": 132,
   "metadata": {},
   "outputs": [
    {
     "name": "stdout",
     "output_type": "stream",
     "text": [
      "[0]\n",
      "[1]\n",
      "[1]\n",
      "[0]\n"
     ]
    }
   ],
   "source": [
    "#情感倾向预测\n",
    "sentenced_1=['layout', 'get', 'ebay', 'item', 'nt' ,'keep' ,'like']\n",
    "avg_vec_1=sum(get_vec(sentenced_1))/len(get_vec(sentenced_1))   #第1个主题的平均向量\n",
    "print(RFC_clf.predict(avg_vec_1.reshape(1,-1)))  \n",
    "\n",
    "sentenced_2=['interface', 'ebay', 'user', 'latest', 'web' ,'site' ,'notification']\n",
    "avg_vec_2=sum(get_vec(sentenced_2))/len(get_vec(sentenced_2))   #第2个主题的平均向量\n",
    "print(RFC_clf.predict(avg_vec_2.reshape(1,-1)))  \n",
    "\n",
    "sentenced_3=['easy', 'use', 'interface', 'nt', 'ebay' ,'option' ,'layout']\n",
    "avg_vec_3=sum(get_vec(sentenced_3))/len(get_vec(sentenced_3))   #第3个主题的平均向量\n",
    "print(RFC_clf.predict(avg_vec_3.reshape(1,-1))) \n",
    "\n",
    "sentenced_4=['design', 'use', 'item', 'look', 'search' ,'nt' ,'buy']\n",
    "avg_vec_4=sum(get_vec(sentenced_4))/len(get_vec(sentenced_4))   #第4个主题的平均向量\n",
    "print(RFC_clf.predict(avg_vec_4.reshape(1,-1)))  \n"
   ]
  },
  {
   "cell_type": "code",
   "execution_count": null,
   "metadata": {},
   "outputs": [],
   "source": []
  },
  {
   "cell_type": "code",
   "execution_count": null,
   "metadata": {},
   "outputs": [],
   "source": []
  },
  {
   "cell_type": "code",
   "execution_count": null,
   "metadata": {},
   "outputs": [],
   "source": []
  },
  {
   "cell_type": "code",
   "execution_count": null,
   "metadata": {},
   "outputs": [],
   "source": []
  },
  {
   "cell_type": "code",
   "execution_count": null,
   "metadata": {},
   "outputs": [],
   "source": []
  },
  {
   "cell_type": "code",
   "execution_count": null,
   "metadata": {},
   "outputs": [],
   "source": []
  },
  {
   "cell_type": "code",
   "execution_count": 101,
   "metadata": {},
   "outputs": [
    {
     "name": "stdout",
     "output_type": "stream",
     "text": [
      "0.7666666666666666 211\n"
     ]
    },
    {
     "data": {
      "image/png": "[encoded data removed]",
      "text/plain": [
       "<Figure size 1440x576 with 1 Axes>"
      ]
     },
     "metadata": {
      "needs_background": "light"
     },
     "output_type": "display_data"
    }
   ],
   "source": [
    "score1=[]\n",
    "for i in range(0,300,10):\n",
    "    rfc=RandomForestClassifier(n_estimators=i+1,n_jobs=-1,random_state=90)\n",
    "    score=cross_val_score(rfc,x,y,cv=10).mean()\n",
    "    score1.append(score)\n",
    "    \n",
    "print(max(score1),(score1.index(max(score1))*10)+1)  #最大的分数 以及它的索引值\n",
    "\n",
    "plt.figure(figsize=(20,8))\n",
    "plt.plot(range(1,300,10),score1)\n",
    "plt.show()"
   ]
  },
  {
   "cell_type": "code",
   "execution_count": 103,
   "metadata": {},
   "outputs": [
    {
     "data": {
      "text/plain": [
       "GridSearchCV(cv=10,\n",
       "             estimator=RandomForestClassifier(n_estimators=211,\n",
       "                                              random_state=90),\n",
       "             param_grid={'max_depth': array([ 1,  2,  3,  4,  5,  6,  7,  8,  9, 10, 11, 12, 13, 14, 15, 16, 17,\n",
       "       18, 19])})"
      ]
     },
     "execution_count": 103,
     "metadata": {},
     "output_type": "execute_result"
    }
   ],
   "source": [
    "#网格搜索  调整max_depth\n",
    "param_grid={\n",
    "           \"max_depth\":np.arange(1,20,1)\n",
    "}\n",
    "rfc=RandomForestClassifier(n_estimators=211,random_state=90)\n",
    "GS=GridSearchCV(rfc,param_grid,cv=10)\n",
    "GS.fit(x,y)"
   ]
  },
  {
   "cell_type": "code",
   "execution_count": 104,
   "metadata": {},
   "outputs": [
    {
     "data": {
      "text/plain": [
       "{'max_depth': 15}"
      ]
     },
     "execution_count": 104,
     "metadata": {},
     "output_type": "execute_result"
    }
   ],
   "source": [
    "GS.best_params_"
   ]
  },
  {
   "cell_type": "code",
   "execution_count": 105,
   "metadata": {},
   "outputs": [
    {
     "data": {
      "text/plain": [
       "0.7652777777777778"
      ]
     },
     "execution_count": 105,
     "metadata": {},
     "output_type": "execute_result"
    }
   ],
   "source": [
    "GS.best_score_"
   ]
  },
  {
   "cell_type": "code",
   "execution_count": null,
   "metadata": {},
   "outputs": [],
   "source": [
    "#svm\n"
   ]
  },
  {
   "cell_type": "code",
   "execution_count": null,
   "metadata": {},
   "outputs": [],
   "source": []
  },
  {
   "cell_type": "code",
   "execution_count": null,
   "metadata": {},
   "outputs": [],
   "source": [
    "\n"
   ]
  },
  {
   "cell_type": "code",
   "execution_count": null,
   "metadata": {},
   "outputs": [],
   "source": []
  }
 ],
 "metadata": {
  "kernelspec": {
   "display_name": "Python 3",
   "language": "python",
   "name": "python3"
  },
  "language_info": {
   "codemirror_mode": {
    "name": "ipython",
    "version": 3
   },
   "file_extension": ".py",
   "mimetype": "text/x-python",
   "name": "python",
   "nbconvert_exporter": "python",
   "pygments_lexer": "ipython3",
   "version": "3.8.3"
  }
 },
 "nbformat": 4,
 "nbformat_minor": 4
}
