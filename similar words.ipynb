{
 "cells": [
  {
   "cell_type": "code",
   "execution_count": 1,
   "metadata": {},
   "outputs": [],
   "source": [
    "import numpy as np\n",
    "import pandas as pd\n",
    "\n",
    "import gensim\n",
    "from gensim.models import Word2Vec\n",
    "\n",
    "import re\n",
    "import collections\n",
    "\n",
    "import nltk\n",
    "from nltk import pos_tag\n",
    "from nltk.stem import WordNetLemmatizer\n",
    "from nltk.corpus import wordnet\n",
    "from nltk.corpus import stopwords\n",
    "import warnings\n",
    "warnings.filterwarnings(\"ignore\")"
   ]
  },
  {
   "cell_type": "code",
   "execution_count": 2,
   "metadata": {},
   "outputs": [],
   "source": [
    "data_1=pd.read_csv(r\"C:\\Users\\YUE\\Desktop\\interface1_total.csv\",dtype={'Reviews':str})\n",
    "data_2=pd.read_csv(r\"C:\\Users\\YUE\\Desktop\\interface2_total.csv\",dtype={'Reviews':str})\n",
    "data_3=pd.read_csv(r\"C:\\Users\\YUE\\Desktop\\interface3_total.csv\",dtype={'Reviews':str})\n",
    "data_4=pd.read_csv(r\"C:\\Users\\YUE\\Desktop\\interface4_total.csv\",dtype={'Reviews':str})\n",
    "data_5=pd.read_csv(r\"C:\\Users\\YUE\\Desktop\\interface5_total.csv\",dtype={'Reviews':str})\n",
    "data_6=pd.read_csv(r\"C:\\Users\\YUE\\Desktop\\interface6_total.csv\",dtype={'Reviews':str})\n"
   ]
  },
  {
   "cell_type": "code",
   "execution_count": 3,
   "metadata": {},
   "outputs": [
    {
     "name": "stdout",
     "output_type": "stream",
     "text": [
      "164031\n"
     ]
    }
   ],
   "source": [
    "data=pd.concat([data_1,data_2,data_3,data_4,data_5,data_6])\n",
    "print(len(data))"
   ]
  },
  {
   "cell_type": "code",
   "execution_count": 4,
   "metadata": {},
   "outputs": [
    {
     "data": {
      "text/plain": [
       "0    video still open in browser den can tap to ope...\n",
       "1    i can't load any of the video on my youtube ev...\n",
       "2    after the update it get more worse come on you...\n",
       "3    usually i love the youtube app but this curren...\n",
       "4                   unable to load video .can't play .\n",
       "Name: Reviews, dtype: object"
      ]
     },
     "execution_count": 4,
     "metadata": {},
     "output_type": "execute_result"
    }
   ],
   "source": [
    "new_data=data_6[\"Reviews\"]\n",
    "new_data.head()"
   ]
  },
  {
   "cell_type": "code",
   "execution_count": 5,
   "metadata": {},
   "outputs": [],
   "source": [
    "#简单预处理\n",
    "def clean_text(text):\n",
    "    text= text.replace('\\n',\" \") #用空格代替新的行\n",
    "    text=re.sub(r\"-\",\" \",text)  #把用“-”连接的单词分开 （close-up分成close和 up）\n",
    "    pure_text=''\n",
    "    for letter in text:        #去除字母和空格\n",
    "        letter=letter.lower()\n",
    "        if letter.isalpha() or letter==' ':\n",
    "            pure_text+=letter\n",
    "    text=' '.join(word for word in pure_text.split() if len(word)>1)\n",
    "    return text"
   ]
  },
  {
   "cell_type": "code",
   "execution_count": 6,
   "metadata": {},
   "outputs": [],
   "source": [
    "docs=new_data.apply(lambda s:clean_text(s))\n",
    "doclist=docs.values"
   ]
  },
  {
   "cell_type": "code",
   "execution_count": 7,
   "metadata": {},
   "outputs": [],
   "source": [
    "sentences=[]\n",
    "for sentence in doclist:\n",
    "    raw_sentence=nltk.word_tokenize(sentence)\n",
    "    sentences.append(raw_sentence)         "
   ]
  },
  {
   "cell_type": "code",
   "execution_count": 8,
   "metadata": {},
   "outputs": [],
   "source": [
    "#word2vec模型建立\n",
    "import multiprocessing\n",
    "num_features=300                          #生成的单词向量的维数\n",
    "min_word_count=1                          #最小字数的阈值\n",
    "num_workers=multiprocessing.cpu_count()   #并行运行的线程数\n",
    "context_size=3                            #上下文窗口长度\n",
    "seed=1                                    #使得结果重现\n",
    "\n",
    "word2vec_model=Word2Vec(sentences=sentences,\n",
    "                        sg=1,\n",
    "                        seed=seed,\n",
    "                        workers=num_workers,\n",
    "                        vector_size=num_features,\n",
    "                        min_count=min_word_count,\n",
    "                        window=context_size\n",
    "                        )"
   ]
  },
  {
   "cell_type": "code",
   "execution_count": 9,
   "metadata": {},
   "outputs": [],
   "source": [
    "testwords=[\"ui\",\"interface\",\"design\",\"layout\",\"gui\",\"ux\",\"clunky\",\"redesign\",\"aesthetic\",\"navigation\",\n",
    "             \"usability\",\"sleek\",\"appearance\",\"aesthetically\",\"intuitive\",\"minimalistic\",\n",
    "              \"ugly\",\"slick\",\"graphic\",\"unintuitive\"]"
   ]
  },
  {
   "cell_type": "code",
   "execution_count": 10,
   "metadata": {},
   "outputs": [
    {
     "name": "stdout",
     "output_type": "stream",
     "text": [
      "ui\n",
      "[('interface', 0.751379132270813), ('layout', 0.7487566471099854), ('gui', 0.7257820963859558), ('clunky', 0.7021434307098389), ('ux', 0.7016051411628723), ('messy', 0.6965512633323669), ('unbelievably', 0.6917338967323303), ('format', 0.6867991089820862), ('redesign', 0.6819491386413574), ('setup', 0.6814700365066528)]\n",
      "interface\n",
      "[('layout', 0.7756385207176208), ('ui', 0.751379132270813), ('gui', 0.7513104677200317), ('design', 0.7164009809494019), ('setup', 0.7149686813354492), ('unbelievably', 0.7135179042816162), ('format', 0.7095189690589905), ('redesign', 0.7061988711357117), ('clunky', 0.7014716267585754), ('messy', 0.7012390494346619)]\n",
      "design\n",
      "[('layout', 0.7418424487113953), ('style', 0.7396385073661804), ('format', 0.7390375137329102), ('gui', 0.7281906008720398), ('setup', 0.7230738401412964), ('interface', 0.7164009213447571), ('ux', 0.7124044299125671), ('atrocious', 0.7068055868148804), ('horrid', 0.700555145740509), ('redesign', 0.6983566284179688)]\n",
      "layout\n",
      "[('format', 0.8332235813140869), ('setup', 0.8202801942825317), ('style', 0.7999438643455505), ('interface', 0.7756385207176208), ('redesign', 0.7553784251213074), ('ui', 0.7487566471099854), ('messy', 0.7475689053535461), ('design', 0.74184250831604), ('atrocious', 0.7404712438583374), ('gui', 0.7285268306732178)]\n",
      "gui\n",
      "[('sloppy', 0.8650296330451965), ('unbelievably', 0.8546116948127747), ('awkward', 0.8505241274833679), ('resent', 0.8462827801704407), ('useable', 0.8428965210914612), ('horrific', 0.8419908881187439), ('award', 0.8396701812744141), ('placement', 0.8384228944778442), ('significantly', 0.8381994366645813), ('unprofessional', 0.8361133337020874)]\n",
      "ux\n",
      "[('gui', 0.8096709847450256), ('lousy', 0.7965293526649475), ('evar', 0.7865880131721497), ('unbelievably', 0.7745073437690735), ('sloppy', 0.7730614542961121), ('belive', 0.7638518810272217), ('execution', 0.7576284408569336), ('whomever', 0.7544170618057251), ('unecessary', 0.754094660282135), ('bos', 0.7532165050506592)]\n",
      "clunky\n",
      "[('inefficient', 0.8538668155670166), ('unorganized', 0.8308241367340088), ('complicate', 0.8272578716278076), ('complex', 0.8202226758003235), ('ugly', 0.8100460171699524), ('unintuitive', 0.8000092506408691), ('inconvenient', 0.7938510179519653), ('messy', 0.7924333214759827), ('responsive', 0.7823615670204163), ('awkward', 0.781643271446228)]\n",
      "redesign\n",
      "[('atrocious', 0.8118107318878174), ('horrid', 0.803443193435669), ('setup', 0.7786874175071716), ('unbelievably', 0.7735956311225891), ('designer', 0.7708845734596252), ('nicer', 0.7622409462928772), ('layout', 0.7553783655166626), ('rubbish', 0.7550985813140869), ('disaster', 0.75179123878479), ('wreck', 0.7516310214996338)]\n",
      "aesthetic\n",
      "[('polish', 0.9411368370056152), ('neff', 0.9360826015472412), ('summon', 0.9335086345672607), ('bizarre', 0.9315147995948792), ('whell', 0.9313779473304749), ('unfriendly', 0.9303901195526123), ('liek', 0.9286938309669495), ('neat', 0.9286847114562988), ('sleeker', 0.9279053807258606), ('millionaire', 0.9277656674385071)]\n",
      "navigation\n",
      "[('placement', 0.7975023984909058), ('slider', 0.795211672782898), ('nav', 0.7625290751457214), ('scroller', 0.7615204453468323), ('mechanic', 0.7578190565109253), ('awkward', 0.7451924681663513), ('unorganized', 0.7418937683105469), ('slightly', 0.7385408282279968), ('clunky', 0.7382377982139587), ('opposite', 0.7306360602378845)]\n",
      "usability\n",
      "[('prominent', 0.8561540842056274), ('recur', 0.8447308540344238), ('stability', 0.8386706709861755), ('ongoing', 0.8327007293701172), ('overhaul', 0.8220151662826538), ('hangups', 0.820293128490448), ('lotta', 0.819430947303772), ('widespread', 0.8186309337615967), ('critical', 0.8134468793869019), ('sociopath', 0.8117340207099915)]\n",
      "sleek\n",
      "[('simplistic', 0.93096524477005), ('questionable', 0.923032820224762), ('comparison', 0.9208727478981018), ('fluid', 0.9189081192016602), ('boyz', 0.9171565771102905), ('tranfering', 0.9157190918922424), ('tidy', 0.914508581161499), ('technologically', 0.914277195930481), ('shirt', 0.9131557941436768), ('bos', 0.9114993214607239)]\n",
      "appearance\n",
      "[('execution', 0.8679463863372803), ('accrue', 0.8628459572792053), ('oven', 0.8602568507194519), ('symptom', 0.8592434525489807), ('instagrams', 0.8577179908752441), ('convolute', 0.8527381420135498), ('nav', 0.8503583073616028), ('unecessary', 0.8473458886146545), ('longstanding', 0.8470963835716248), ('bombardment', 0.847000241279602)]\n",
      "aesthetically\n",
      "[('factor', 0.9255822896957397), ('bubbly', 0.9196856021881104), ('questionable', 0.9180962443351746), ('chaotic', 0.917693555355072), ('dramalert', 0.9173792004585266), ('creaters', 0.916932225227356), ('tile', 0.9149994254112244), ('smarmy', 0.9148153066635132), ('outcome', 0.9134395718574524), ('floor', 0.9125083088874817)]\n",
      "intuitive\n",
      "[('efficient', 0.7988109588623047), ('complex', 0.79058837890625), ('relatively', 0.7878879904747009), ('convenient', 0.7762184143066406), ('comfortable', 0.7751051783561707), ('accurate', 0.7690213322639465), ('appeal', 0.7498756051063538), ('inefficient', 0.7436502575874329), ('responsive', 0.7429059147834778), ('overwhelm', 0.7393187284469604)]\n",
      "minimalistic\n",
      "[('stereotypical', 0.9586198925971985), ('codec', 0.9545815587043762), ('neatness', 0.953627347946167), ('effortless', 0.9520515203475952), ('usefulness', 0.9511540532112122), ('incoherent', 0.9511517286300659), ('branch', 0.9507024884223938), ('deliberately', 0.9503182172775269), ('malaysian', 0.9495872259140015), ('sil', 0.9493165016174316)]\n",
      "ugly\n",
      "[('unorganized', 0.8816425204277039), ('messy', 0.8750083446502686), ('inconvenient', 0.819921612739563), ('disorganize', 0.8103749752044678), ('clunky', 0.8100459575653076), ('atrocious', 0.8089531660079956), ('complicate', 0.8074474334716797), ('confuse', 0.8068827390670776), ('clutter', 0.8022825717926025), ('unprofessional', 0.7816634774208069)]\n",
      "slick\n",
      "[('cashgrab', 0.9577298164367676), ('sexuality', 0.9576295018196106), ('religion', 0.9574178457260132), ('reunion', 0.9564344882965088), ('realistic', 0.9558709263801575), ('uhm', 0.9552803039550781), ('lick', 0.9551541209220886), ('python', 0.9549294710159302), ('monty', 0.9538297653198242), ('rainbow', 0.9536492228507996)]\n",
      "graphic\n",
      "[('slip', 0.8825669884681702), ('uncooperative', 0.8822938203811646), ('extent', 0.880896270275116), ('tht', 0.8808473348617554), ('maximise', 0.8804752826690674), ('triangle', 0.880268931388855), ('demonetisation', 0.877910315990448), ('alter', 0.8770796656608582), ('ourmine', 0.8769286870956421), ('intention', 0.8768203258514404)]\n",
      "unintuitive\n",
      "[('inefficient', 0.835378885269165), ('cumbersome', 0.8266632556915283), ('disregard', 0.8241162896156311), ('unstable', 0.8161036968231201), ('uncomfortable', 0.8052563667297363), ('clunky', 0.8000093698501587), ('horrific', 0.7967281341552734), ('unbelievably', 0.7954601049423218), ('hideous', 0.7902777194976807), ('sleek', 0.7815777659416199)]\n"
     ]
    }
   ],
   "source": [
    "for i in range(len(testwords)):\n",
    "    vector=word2vec_model.wv[testwords[i]]\n",
    "    sim_words=word2vec_model.wv.most_similar(testwords[i])\n",
    "    print(testwords[i])\n",
    "    print(sim_words)"
   ]
  },
  {
   "cell_type": "code",
   "execution_count": null,
   "metadata": {},
   "outputs": [],
   "source": []
  },
  {
   "cell_type": "code",
   "execution_count": null,
   "metadata": {},
   "outputs": [],
   "source": []
  }
 ],
 "metadata": {
  "kernelspec": {
   "display_name": "Python 3",
   "language": "python",
   "name": "python3"
  },
  "language_info": {
   "codemirror_mode": {
    "name": "ipython",
    "version": 3
   },
   "file_extension": ".py",
   "mimetype": "text/x-python",
   "name": "python",
   "nbconvert_exporter": "python",
   "pygments_lexer": "ipython3",
   "version": "3.8.3"
  }
 },
 "nbformat": 4,
 "nbformat_minor": 4
}
