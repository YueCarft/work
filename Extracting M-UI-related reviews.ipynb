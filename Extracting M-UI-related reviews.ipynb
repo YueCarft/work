{
 "cells": [
  {
   "cell_type": "code",
   "execution_count": 1,
   "metadata": {},
   "outputs": [],
   "source": [
    "UI_word_list=[\"ui\",\"interface\",\"design\",\"layout\",\"gui\",\"ux\",\"clunky\",\"redesign\",\"aesthetic\",\"navigation\",\n",
    "             \"usability\",\"desing\",\"sleek\",\"appearance\",\"aesthetically\",\"intuitive\",\"minimalistic\",\n",
    "              \"ugly\",\"slick\",\"graphic\",\"unintuitive\",\"guideline\",\"homepage\",\"scheme\",\"hideous\",\n",
    "               \"awkward\",\"font\",\"gesture\"]"
   ]
  },
  {
   "cell_type": "code",
   "execution_count": 7,
   "metadata": {},
   "outputs": [],
   "source": [
    "import re\n",
    "\n",
    "read_path=r\"C:\\Users\\YUE\\Desktop\\total_6.txt\"\n",
    "save_path=r\"C:\\Users\\YUE\\Desktop\\interface6.txt\"\n",
    "with open(read_path,\"r\") as f:\n",
    "    p=re.compile(\"guidline|homepage|scheme|hideous|awkward|'font'|gesture|interface|design|layout|'gui'|'ux'|clunky|redesign|aesthetic|navigation|usability|design|sleek|appearance|aesthetically|intuitive|minimalistic|ugly|slick|graphic|unintuitive|'ui'\")\n",
    "    lines=[line for line in f.readlines() if p.search(line)]\n",
    "with open(save_path,\"w\") as d:\n",
    "    d.seek(0)\n",
    "    d.truncate(0)\n",
    "    d.writelines(lines)\n"
   ]
  },
  {
   "cell_type": "code",
   "execution_count": null,
   "metadata": {},
   "outputs": [],
   "source": []
  },
  {
   "cell_type": "code",
   "execution_count": null,
   "metadata": {},
   "outputs": [],
   "source": []
  }
 ],
 "metadata": {
  "kernelspec": {
   "display_name": "Python 3",
   "language": "python",
   "name": "python3"
  },
  "language_info": {
   "codemirror_mode": {
    "name": "ipython",
    "version": 3
   },
   "file_extension": ".py",
   "mimetype": "text/x-python",
   "name": "python",
   "nbconvert_exporter": "python",
   "pygments_lexer": "ipython3",
   "version": "3.8.3"
  }
 },
 "nbformat": 4,
 "nbformat_minor": 4
}
